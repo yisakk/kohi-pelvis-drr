{
 "cells": [
  {
   "cell_type": "markdown",
   "metadata": {},
   "source": [
    "# Import"
   ]
  },
  {
   "cell_type": "code",
   "execution_count": 1,
   "metadata": {},
   "outputs": [],
   "source": [
    "import os\n",
    "import numpy as np\n",
    "import pandas as pd\n",
    "import scipy\n",
    "import seaborn as sns\n",
    "import pydicom\n",
    "from PIL import Image\n",
    "import cv2\n",
    "\n",
    "from glob import glob\n",
    "from tqdm import tqdm\n",
    "\n",
    "from matplotlib import pyplot as plt\n",
    "\n",
    "\n",
    "IMG_EXTENSION = ['.dcm', '.DCM']\n",
    "\n",
    "\n",
    "def check_extension(filename):\n",
    "    return any(filename.endswith(extension) for extension in IMG_EXTENSION)\n",
    "\n",
    "\n",
    "def load_scans_path(folder_path):\n",
    "    \"\"\"\n",
    "    find 'IMG_EXTENSION' file paths in folder.\n",
    "    return list\n",
    "    \n",
    "    \"\"\"\n",
    "    \n",
    "    img_paths = []\n",
    "    assert os.path.isdir(folder_path), '%s is not a valid directory'\n",
    "\n",
    "    for root, _, fnames in sorted(os.walk(folder_path)):\n",
    "        for fname in fnames:\n",
    "            if check_extension(fname):\n",
    "                path = os.path.join(root, fname)\n",
    "                img_paths.append(path)\n",
    "    return img_paths[:]\n",
    "\n",
    "\n",
    "def load_ct_scans(patient_folder_path):\n",
    "    \"\"\"\n",
    "    Function of Loading CT-scans \"per patient\"\n",
    "    patient path to CT slices(HU)\n",
    "    input: patient folder path -> list or tuple\n",
    "    output: File Meta Information, CT sclices -> tuple\n",
    "    \"\"\"\n",
    "    # call all image paths in directory\n",
    "    dcm_paths = load_scans_path(patient_folder_path)\n",
    "    \n",
    "    slices = [pydicom.read_file(dcm_path, force=True) for dcm_path in dcm_paths]\n",
    "    \n",
    "    # **Sort the slices in ascending order\n",
    "    \n",
    "    for idx, sl in enumerate(slices):\n",
    "        try:\n",
    "            _ = sl.ImagePositionPatient[2]\n",
    "        except AttributeError:\n",
    "            slices.pop(idx)\n",
    "            print(idx)\n",
    "        \n",
    "    slices.sort(key = lambda x: float(x.ImagePositionPatient[2]))\n",
    "        \n",
    "    # stack slices\n",
    "    images = np.stack([file.pixel_array for file in slices])\n",
    "    images = images.astype(np.int16)\n",
    "    \n",
    "    # convert to HU\n",
    "    intercept = slices[0].RescaleIntercept\n",
    "    slope = slices[0].RescaleSlope\n",
    "    hu_images = images.astype(np.float64) * slope + intercept\n",
    "    hu_images = set_outside_scanner_to_air(hu_images.astype(np.int16))\n",
    "    \n",
    "    # return header of first dicom and stacked CT slices\n",
    "    return slices[0], hu_images\n",
    "\n",
    "\n",
    "def set_outside_scanner_to_air(hu_pixelarrays):\n",
    "    \"\"\"\n",
    "    Pixel Padding Value Attribute(0028,0120) -> air\n",
    "    \"\"\"\n",
    "    hu_pixelarrays[hu_pixelarrays < -1024] = -1024\n",
    "    \n",
    "    return hu_pixelarrays\n",
    "\n",
    "\n",
    "def transform_to_hu(dicom_info, image):\n",
    "    image = set_outside_scanner_to_air(image)\n",
    "    \n",
    "    intercept = dicom_info.RescaleIntercept\n",
    "    slope = dicom_info.RescaleSlope\n",
    "    hu_image = image.astype(np.float64) * slope + intercept\n",
    "    hu_image = set_outside_scanner_to_air(hu_image.astype(np.int16))\n",
    "    return hu_image\n",
    "\n",
    "\n",
    "def windowing(img, window):\n",
    "    w_level, w_width = window\n",
    "    w_min = w_level - (w_width / 2)\n",
    "    w_max = w_level + (w_width / 2)\n",
    "    window_image = img.copy()\n",
    "    window_image[window_image < w_min] = w_min\n",
    "    window_image[window_image > w_max] = w_max\n",
    "\n",
    "    return window_image\n",
    "    \n",
    "    \n",
    "def dcms_to_imgs(dcms):\n",
    "    dcms.sort(key = lambda x: float(x.ImagePositionPatient[2]))\n",
    "    images = np.stack([file.pixel_array for file in dcms])\n",
    "    images = images.astype(np.int16)\n",
    "\n",
    "    # convert to HU\n",
    "    intercept = dcms[0].RescaleIntercept\n",
    "    slope = dcms[0].RescaleSlope\n",
    "    hu_images = images.astype(np.float64) * slope + intercept\n",
    "    hu_images = set_outside_scanner_to_air(hu_images.astype(np.int16))\n",
    "    return hu_images\n",
    "\n",
    "\n",
    "def sample_stack(stacks, cols=10, start_with=0, show_every=1, vmin=-1000, vmax=1000):\n",
    "    rows = len(stacks)//cols\n",
    "    fig,ax = plt.subplots(rows+1,cols,figsize=[25,rows*3])\n",
    "    for i in range(len(stacks)):\n",
    "        ind = start_with + i*show_every\n",
    "        ax[i//cols,i % cols].set_title(f'{stacks[ind].get(\"SeriesNumber\")}')\n",
    "        ax[i//cols,i % cols].imshow(stacks[ind].pixel_array, vmin=vmin, vmax=vmax,cmap='gray')\n",
    "        ax[i//cols,i % cols].axis('off')        \n",
    "    plt.show()\n",
    "    \n",
    "    \n",
    "def imgs_stack(stacks, cols=10, start_with=0, show_every=1):\n",
    "    rows = len(stacks)//cols\n",
    "    fig,ax = plt.subplots(rows+1,cols,figsize=[40,rows*5])\n",
    "    for i in range(len(stacks)):\n",
    "        ind = start_with + i*show_every\n",
    "        ax[i//cols,i % cols].imshow(stacks[ind],cmap='gray')\n",
    "        ax[i//cols,i % cols].axis('off')        \n",
    "    plt.show()"
   ]
  },
  {
   "cell_type": "code",
   "execution_count": 36,
   "metadata": {},
   "outputs": [
    {
     "name": "stderr",
     "output_type": "stream",
     "text": [
      "100%|██████████| 90/90 [3:23:54<00:00, 135.94s/it]  \n"
     ]
    }
   ],
   "source": [
    "for i in tqdm(range(len(glob(BASE_DIR)))):\n",
    "\n",
    "    BASE_DIR = \"./ctpel/*\"\n",
    "    path = f\"{glob(BASE_DIR)[i]}/im_1/*.dcm\"\n",
    "\n",
    "    mask_path = glob(f\"{glob(BASE_DIR)[i]}/im_3/*.dcm\")\n",
    "    mask_dcm = pydicom.dcmread(mask_path[0], force=True)\n",
    "    masked_slices = mask_dcm[0x008, 0x1115][0][0x008, 0x114a]\n",
    "\n",
    "    slices = []\n",
    "    for fname in glob(path):\n",
    "        slices.append(pydicom.dcmread(fname, force=True))\n",
    "    slices = sorted(slices, key=lambda s: s[0x020, 0x032][-1])\n",
    "\n",
    "    uids_masked = []\n",
    "    for s in masked_slices:\n",
    "        uids_masked.append(s[0x008, 0x1155].value)\n",
    "\n",
    "    uids_all = []\n",
    "    for s in slices:\n",
    "        uids_all.append(s[0x008, 0x018].value)\n",
    "\n",
    "    roi = []\n",
    "    for j in uids_masked:\n",
    "        roi.append(uids_all.index(j))\n",
    "\n",
    "    roi_slices = slices[:]\n",
    "    roi_imgs = dcms_to_imgs(roi_slices)\n",
    "    window_roi_img = windowing(roi_imgs, [600, 1800])\n",
    "\n",
    "    img_shape = list(roi_slices[0].pixel_array.shape)\n",
    "    img_shape.append(len(roi_slices))\n",
    "\n",
    "    roi_img3d = np.zeros(img_shape)\n",
    "\n",
    "    for j, s in enumerate(window_roi_img):\n",
    "            roi_img3d[:, :, -(j+1)] = s\n",
    "\n",
    "    roi_img3d = (roi_img3d - np.min(roi_img3d)) / (np.max(roi_img3d) - np.min(roi_img3d))\n",
    "    roi_img3d = np.array(roi_img3d*255).astype(np.uint8)\n",
    "\n",
    "    for idx in range(roi_img3d.shape[-1]):\n",
    "        Image.fromarray(roi_img3d[:, :, idx]).convert(\"L\").resize((512, 512)).save(f\"axial_slices/{glob(BASE_DIR)[i].split('/')[-1]}_{idx:03}.png\")\n",
    "\n",
    "    segment_dict = {x: [] for x in range(1,6)}\n",
    "    for s in mask_dcm[0x5200, 0x9230]:\n",
    "        uid = s[0x008, 0x9124][0][0x008, 0x2112][0][0x008, 0x1155].value\n",
    "        segment_num = s[0x062, 0x00a][0][0x062, 0x00b].value\n",
    "\n",
    "        segment_dict[segment_num].append(uid)\n",
    "\n",
    "    roi_dict = {x: [] for x in range(1,6)}\n",
    "    for seg_num in segment_dict:\n",
    "        for j in segment_dict[seg_num]:\n",
    "            roi_dict[seg_num].append(uids_all.index(j))\n",
    "\n",
    "    mask_arr = mask_dcm.pixel_array\n",
    "    segment_arr_dict = dict()\n",
    "    idx = 0\n",
    "    for seg_num in roi_dict:\n",
    "        seg_img3d = np.zeros(img_shape)\n",
    "        for j in roi_dict[seg_num]:\n",
    "            seg_img3d[:, :, -(j+1)] = mask_arr[idx]\n",
    "            idx += 1\n",
    "        segment_arr_dict[seg_num] = seg_img3d\n",
    "\n",
    "    img_dict = dict()\n",
    "    for j in range (1,6):\n",
    "        img_dict[j]=np.array(segment_arr_dict[j]*255).astype(np.uint8)\n",
    "        for idx in range(img_dict[j].shape[-1]):\n",
    "            Image.fromarray(img_dict[j][:, :, idx]).convert(\"L\").resize((512, 512)).save(f\"axial_masks/{glob(BASE_DIR)[i].split('/')[-1]}_{idx:03}_{j}.png\")"
   ]
  },
  {
   "cell_type": "code",
   "execution_count": 6,
   "metadata": {},
   "outputs": [],
   "source": [
    "i = 0\n",
    "\n",
    "BASE_DIR = \"./ctpel/*\"\n",
    "path = f\"{glob(BASE_DIR)[i]}/im_1/*.dcm\"\n",
    "\n",
    "mask_path = glob(f\"{glob(BASE_DIR)[i]}/im_3/*.dcm\")\n",
    "mask_dcm = pydicom.dcmread(mask_path[0], force=True)\n",
    "masked_slices = mask_dcm[0x008, 0x1115][0][0x008, 0x114a]"
   ]
  },
  {
   "cell_type": "code",
   "execution_count": 7,
   "metadata": {},
   "outputs": [],
   "source": [
    "slices = []\n",
    "for fname in glob(path):\n",
    "    slices.append(pydicom.dcmread(fname, force=True))\n",
    "slices = sorted(slices, key=lambda s: s[0x020, 0x032][-1])"
   ]
  },
  {
   "cell_type": "code",
   "execution_count": 8,
   "metadata": {},
   "outputs": [],
   "source": [
    "uids_masked = []\n",
    "for s in masked_slices:\n",
    "    uids_masked.append(s[0x008, 0x1155].value)\n",
    "\n",
    "uids_all = []\n",
    "for s in slices:\n",
    "    uids_all.append(s[0x008, 0x018].value)\n",
    "\n",
    "roi = []\n",
    "for j in uids_masked:\n",
    "    roi.append(uids_all.index(j))"
   ]
  },
  {
   "cell_type": "code",
   "execution_count": 9,
   "metadata": {},
   "outputs": [],
   "source": [
    "roi_slices = slices[:]\n",
    "roi_imgs = dcms_to_imgs(roi_slices)\n",
    "window_roi_img = windowing(roi_imgs, [600, 1800])\n",
    "\n",
    "img_shape = list(roi_slices[0].pixel_array.shape)\n",
    "img_shape.append(len(roi_slices))"
   ]
  },
  {
   "cell_type": "code",
   "execution_count": 13,
   "metadata": {},
   "outputs": [
    {
     "data": {
      "text/plain": [
       "<matplotlib.image.AxesImage at 0x7fd354ba7898>"
      ]
     },
     "execution_count": 13,
     "metadata": {},
     "output_type": "execute_result"
    },
    {
     "data": {
      "image/png": "[encoded data removed]",
      "text/plain": [
       "<Figure size 432x288 with 1 Axes>"
      ]
     },
     "metadata": {
      "needs_background": "light"
     },
     "output_type": "display_data"
    }
   ],
   "source": [
    "plt.imshow(window_roi_img[0])"
   ]
  },
  {
   "cell_type": "code",
   "execution_count": 14,
   "metadata": {},
   "outputs": [],
   "source": [
    "roi_img3d = np.zeros(img_shape)\n",
    "\n",
    "for j, s in enumerate(window_roi_img):\n",
    "        roi_img3d[:, :, -(j+1)] = s"
   ]
  },
  {
   "cell_type": "code",
   "execution_count": 15,
   "metadata": {},
   "outputs": [],
   "source": [
    "roi_img3d = (roi_img3d - np.min(roi_img3d)) / (np.max(roi_img3d) - np.min(roi_img3d))\n",
    "roi_img3d = np.array(roi_img3d*255).astype(np.uint8)"
   ]
  },
  {
   "cell_type": "code",
   "execution_count": 23,
   "metadata": {},
   "outputs": [
    {
     "data": {
      "text/plain": [
       "<matplotlib.image.AxesImage at 0x7fd342ae8320>"
      ]
     },
     "execution_count": 23,
     "metadata": {},
     "output_type": "execute_result"
    },
    {
     "data": {
      "image/png": "[encoded data removed]",
      "text/plain": [
       "<Figure size 432x288 with 1 Axes>"
      ]
     },
     "metadata": {
      "needs_background": "light"
     },
     "output_type": "display_data"
    }
   ],
   "source": [
    "plt.imshow(roi_img3d[:, :, 50])"
   ]
  },
  {
   "cell_type": "code",
   "execution_count": 26,
   "metadata": {},
   "outputs": [],
   "source": [
    "for idx in range(roi_img3d.shape[-1]):\n",
    "    Image.fromarray(roi_img3d[:, :, idx]).convert(\"L\").resize((512, 512)).save(f\"axial_slices/{glob(BASE_DIR)[i].split('/')[-1]}_{idx:03}.png\")"
   ]
  },
  {
   "cell_type": "code",
   "execution_count": 27,
   "metadata": {},
   "outputs": [],
   "source": [
    "segment_dict = {x: [] for x in range(1,6)}\n",
    "for s in mask_dcm[0x5200, 0x9230]:\n",
    "    uid = s[0x008, 0x9124][0][0x008, 0x2112][0][0x008, 0x1155].value\n",
    "    segment_num = s[0x062, 0x00a][0][0x062, 0x00b].value\n",
    "\n",
    "    segment_dict[segment_num].append(uid)\n",
    "\n",
    "roi_dict = {x: [] for x in range(1,6)}\n",
    "for seg_num in segment_dict:\n",
    "    for j in segment_dict[seg_num]:\n",
    "        roi_dict[seg_num].append(uids_all.index(j))"
   ]
  },
  {
   "cell_type": "code",
   "execution_count": 28,
   "metadata": {},
   "outputs": [],
   "source": [
    "mask_arr = mask_dcm.pixel_array\n",
    "segment_arr_dict = dict()\n",
    "idx = 0\n",
    "for seg_num in roi_dict:\n",
    "    seg_img3d = np.zeros(img_shape)\n",
    "    for j in roi_dict[seg_num]:\n",
    "        seg_img3d[:, :, -(j+1)] = mask_arr[idx]\n",
    "        idx += 1\n",
    "    segment_arr_dict[seg_num] = seg_img3d"
   ]
  },
  {
   "cell_type": "code",
   "execution_count": 33,
   "metadata": {},
   "outputs": [
    {
     "data": {
      "text/plain": [
       "<matplotlib.image.AxesImage at 0x7fd342768b00>"
      ]
     },
     "execution_count": 33,
     "metadata": {},
     "output_type": "execute_result"
    },
    {
     "data": {
      "image/png": "[encoded data removed]",
      "text/plain": [
       "<Figure size 432x288 with 1 Axes>"
      ]
     },
     "metadata": {
      "needs_background": "light"
     },
     "output_type": "display_data"
    }
   ],
   "source": [
    "plt.imshow(segment_arr_dict[1][:, :, 500])"
   ]
  },
  {
   "cell_type": "code",
   "execution_count": 35,
   "metadata": {},
   "outputs": [],
   "source": [
    "img_dict = dict()\n",
    "for j in range (1,6):\n",
    "    img_dict[j]=np.array(segment_arr_dict[j]*255).astype(np.uint8)\n",
    "    for idx in range(img_dict[j].shape[-1]):\n",
    "        Image.fromarray(img_dict[j][:, :, idx]).convert(\"L\").resize((512, 512)).save(f\"axial_masks/{glob(BASE_DIR)[i].split('/')[-1]}_{idx:03}_{j}.png\")"
   ]
  },
  {
   "cell_type": "code",
   "execution_count": null,
   "metadata": {},
   "outputs": [],
   "source": []
  }
 ],
 "metadata": {
  "kernelspec": {
   "display_name": "Python 3",
   "language": "python",
   "name": "python3"
  },
  "language_info": {
   "codemirror_mode": {
    "name": "ipython",
    "version": 3
   },
   "file_extension": ".py",
   "mimetype": "text/x-python",
   "name": "python",
   "nbconvert_exporter": "python",
   "pygments_lexer": "ipython3",
   "version": "3.6.9"
  }
 },
 "nbformat": 4,
 "nbformat_minor": 4
}
