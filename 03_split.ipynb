{
 "cells": [
  {
   "cell_type": "code",
   "execution_count": 2,
   "metadata": {},
   "outputs": [],
   "source": [
    "masks_lst = glob(\"axial_masks/*\")"
   ]
  },
  {
   "cell_type": "code",
   "execution_count": null,
   "metadata": {},
   "outputs": [],
   "source": [
    "masks_lst = glob(\"axial_masks/*\")"
   ]
  },
  {
   "cell_type": "code",
   "execution_count": 5,
   "metadata": {},
   "outputs": [
    {
     "data": {
      "text/html": [
       "<div>\n",
       "<style scoped>\n",
       "    .dataframe tbody tr th:only-of-type {\n",
       "        vertical-align: middle;\n",
       "    }\n",
       "\n",
       "    .dataframe tbody tr th {\n",
       "        vertical-align: top;\n",
       "    }\n",
       "\n",
       "    .dataframe thead th {\n",
       "        text-align: right;\n",
       "    }\n",
       "</style>\n",
       "<table border=\"1\" class=\"dataframe\">\n",
       "  <thead>\n",
       "    <tr style=\"text-align: right;\">\n",
       "      <th></th>\n",
       "      <th>id</th>\n",
       "      <th>split</th>\n",
       "    </tr>\n",
       "  </thead>\n",
       "  <tbody>\n",
       "    <tr>\n",
       "      <th>0</th>\n",
       "      <td>02781BB458B7EEE0</td>\n",
       "      <td>train</td>\n",
       "    </tr>\n",
       "    <tr>\n",
       "      <th>1</th>\n",
       "      <td>02CC41B35F6C8145</td>\n",
       "      <td>train</td>\n",
       "    </tr>\n",
       "    <tr>\n",
       "      <th>2</th>\n",
       "      <td>06BE6C20741AFADD</td>\n",
       "      <td>train</td>\n",
       "    </tr>\n",
       "    <tr>\n",
       "      <th>3</th>\n",
       "      <td>083B371B51E8CC0B</td>\n",
       "      <td>test</td>\n",
       "    </tr>\n",
       "    <tr>\n",
       "      <th>4</th>\n",
       "      <td>08D745849406C9D5</td>\n",
       "      <td>train</td>\n",
       "    </tr>\n",
       "    <tr>\n",
       "      <th>...</th>\n",
       "      <td>...</td>\n",
       "      <td>...</td>\n",
       "    </tr>\n",
       "    <tr>\n",
       "      <th>85</th>\n",
       "      <td>F0153D8ED3822B16</td>\n",
       "      <td>train</td>\n",
       "    </tr>\n",
       "    <tr>\n",
       "      <th>86</th>\n",
       "      <td>F08C01C4F5DC66B4</td>\n",
       "      <td>train</td>\n",
       "    </tr>\n",
       "    <tr>\n",
       "      <th>87</th>\n",
       "      <td>FD8E42D075A45A2F</td>\n",
       "      <td>test</td>\n",
       "    </tr>\n",
       "    <tr>\n",
       "      <th>88</th>\n",
       "      <td>DF7C5391DF882E08</td>\n",
       "      <td>train</td>\n",
       "    </tr>\n",
       "    <tr>\n",
       "      <th>89</th>\n",
       "      <td>D8807180F5048ADF</td>\n",
       "      <td>test</td>\n",
       "    </tr>\n",
       "  </tbody>\n",
       "</table>\n",
       "<p>90 rows × 2 columns</p>\n",
       "</div>"
      ],
      "text/plain": [
       "                  id  split\n",
       "0   02781BB458B7EEE0  train\n",
       "1   02CC41B35F6C8145  train\n",
       "2   06BE6C20741AFADD  train\n",
       "3   083B371B51E8CC0B   test\n",
       "4   08D745849406C9D5  train\n",
       "..               ...    ...\n",
       "85  F0153D8ED3822B16  train\n",
       "86  F08C01C4F5DC66B4  train\n",
       "87  FD8E42D075A45A2F   test\n",
       "88  DF7C5391DF882E08  train\n",
       "89  D8807180F5048ADF   test\n",
       "\n",
       "[90 rows x 2 columns]"
      ]
     },
     "execution_count": 5,
     "metadata": {},
     "output_type": "execute_result"
    }
   ],
   "source": [
    "pd.read_csv(\"ctpel_split.csv\")"
   ]
  },
  {
   "cell_type": "code",
   "execution_count": null,
   "metadata": {},
   "outputs": [],
   "source": []
  },
  {
   "cell_type": "code",
   "execution_count": 1,
   "metadata": {},
   "outputs": [],
   "source": [
    "from glob import glob\n",
    "import random\n",
    "import pandas as pd"
   ]
  },
  {
   "cell_type": "code",
   "execution_count": 4,
   "metadata": {},
   "outputs": [],
   "source": [
    "drr_lst = glob(\"ctpel_drr/drr/*.png\")"
   ]
  },
  {
   "cell_type": "code",
   "execution_count": 5,
   "metadata": {},
   "outputs": [
    {
     "data": {
      "text/plain": [
       "'ctpel_drr/drr/02781BB458B7EEE0_drr.png'"
      ]
     },
     "execution_count": 5,
     "metadata": {},
     "output_type": "execute_result"
    }
   ],
   "source": [
    "drr_lst[0]"
   ]
  },
  {
   "cell_type": "code",
   "execution_count": 3,
   "metadata": {},
   "outputs": [],
   "source": [
    "ctpel_dict = {'id': [], 'split': []}"
   ]
  },
  {
   "cell_type": "code",
   "execution_count": 6,
   "metadata": {},
   "outputs": [],
   "source": [
    "id_lst = [x.split('/')[-1].split('_')[0] for x in drr_lst]"
   ]
  },
  {
   "cell_type": "code",
   "execution_count": 9,
   "metadata": {},
   "outputs": [],
   "source": [
    "ctpel_dict['id'] = id_lst"
   ]
  },
  {
   "cell_type": "code",
   "execution_count": 10,
   "metadata": {},
   "outputs": [],
   "source": [
    "split_lst = ['train']*70+['val']*10+['test']*10"
   ]
  },
  {
   "cell_type": "code",
   "execution_count": 13,
   "metadata": {},
   "outputs": [],
   "source": [
    "random.shuffle(split_lst)"
   ]
  },
  {
   "cell_type": "code",
   "execution_count": 15,
   "metadata": {},
   "outputs": [],
   "source": [
    "ctpel_dict['split'] = split_lst"
   ]
  },
  {
   "cell_type": "code",
   "execution_count": 18,
   "metadata": {},
   "outputs": [],
   "source": [
    "df = pd.DataFrame(ctpel_dict)"
   ]
  },
  {
   "cell_type": "code",
   "execution_count": 19,
   "metadata": {},
   "outputs": [
    {
     "data": {
      "text/html": [
       "<div>\n",
       "<style scoped>\n",
       "    .dataframe tbody tr th:only-of-type {\n",
       "        vertical-align: middle;\n",
       "    }\n",
       "\n",
       "    .dataframe tbody tr th {\n",
       "        vertical-align: top;\n",
       "    }\n",
       "\n",
       "    .dataframe thead th {\n",
       "        text-align: right;\n",
       "    }\n",
       "</style>\n",
       "<table border=\"1\" class=\"dataframe\">\n",
       "  <thead>\n",
       "    <tr style=\"text-align: right;\">\n",
       "      <th></th>\n",
       "      <th>id</th>\n",
       "      <th>split</th>\n",
       "    </tr>\n",
       "  </thead>\n",
       "  <tbody>\n",
       "    <tr>\n",
       "      <th>0</th>\n",
       "      <td>02781BB458B7EEE0</td>\n",
       "      <td>train</td>\n",
       "    </tr>\n",
       "    <tr>\n",
       "      <th>1</th>\n",
       "      <td>02CC41B35F6C8145</td>\n",
       "      <td>train</td>\n",
       "    </tr>\n",
       "    <tr>\n",
       "      <th>2</th>\n",
       "      <td>06BE6C20741AFADD</td>\n",
       "      <td>train</td>\n",
       "    </tr>\n",
       "    <tr>\n",
       "      <th>3</th>\n",
       "      <td>083B371B51E8CC0B</td>\n",
       "      <td>test</td>\n",
       "    </tr>\n",
       "    <tr>\n",
       "      <th>4</th>\n",
       "      <td>08D745849406C9D5</td>\n",
       "      <td>train</td>\n",
       "    </tr>\n",
       "    <tr>\n",
       "      <th>...</th>\n",
       "      <td>...</td>\n",
       "      <td>...</td>\n",
       "    </tr>\n",
       "    <tr>\n",
       "      <th>85</th>\n",
       "      <td>F0153D8ED3822B16</td>\n",
       "      <td>train</td>\n",
       "    </tr>\n",
       "    <tr>\n",
       "      <th>86</th>\n",
       "      <td>F08C01C4F5DC66B4</td>\n",
       "      <td>train</td>\n",
       "    </tr>\n",
       "    <tr>\n",
       "      <th>87</th>\n",
       "      <td>FD8E42D075A45A2F</td>\n",
       "      <td>test</td>\n",
       "    </tr>\n",
       "    <tr>\n",
       "      <th>88</th>\n",
       "      <td>DF7C5391DF882E08</td>\n",
       "      <td>train</td>\n",
       "    </tr>\n",
       "    <tr>\n",
       "      <th>89</th>\n",
       "      <td>D8807180F5048ADF</td>\n",
       "      <td>test</td>\n",
       "    </tr>\n",
       "  </tbody>\n",
       "</table>\n",
       "<p>90 rows × 2 columns</p>\n",
       "</div>"
      ],
      "text/plain": [
       "                  id  split\n",
       "0   02781BB458B7EEE0  train\n",
       "1   02CC41B35F6C8145  train\n",
       "2   06BE6C20741AFADD  train\n",
       "3   083B371B51E8CC0B   test\n",
       "4   08D745849406C9D5  train\n",
       "..               ...    ...\n",
       "85  F0153D8ED3822B16  train\n",
       "86  F08C01C4F5DC66B4  train\n",
       "87  FD8E42D075A45A2F   test\n",
       "88  DF7C5391DF882E08  train\n",
       "89  D8807180F5048ADF   test\n",
       "\n",
       "[90 rows x 2 columns]"
      ]
     },
     "execution_count": 19,
     "metadata": {},
     "output_type": "execute_result"
    }
   ],
   "source": [
    "df"
   ]
  },
  {
   "cell_type": "code",
   "execution_count": 21,
   "metadata": {},
   "outputs": [],
   "source": [
    "df.to_csv(\"ctpel_split.csv\", index=False)"
   ]
  },
  {
   "cell_type": "code",
   "execution_count": 24,
   "metadata": {},
   "outputs": [
    {
     "data": {
      "text/plain": [
       "array(['02781BB458B7EEE0', '02CC41B35F6C8145', '06BE6C20741AFADD',\n",
       "       '083B371B51E8CC0B', '08D745849406C9D5', '08FF8BEBB1FB756A',\n",
       "       '0A44743795D421F7', '0AD7CE889B4FB16F', '0D0C5A034B94C222',\n",
       "       '0FC3188AAA7E6851', '11BC311A21A22818', '12513A2DA6247E3A',\n",
       "       '129A1F8B9C12F86B', '186C2C2E731D073F', '1D1D8ECAC96EFAA5',\n",
       "       '2607CE818F67E933', '26DD3530EC0566E9', '28515CE7A6338299',\n",
       "       '2888F975483629F7', '2DD9A1B65346D271', '308162EDE9FF8B44',\n",
       "       '31E1D28ADE38ABA9', '339F7F1A6EF6ED24', '3769021426255867',\n",
       "       '3B3256E6694B0ABE', '3E934A9F0D559A6F', '3F2E8686E524ABCA',\n",
       "       '413F7A2478FC5F11', '4384905D9F04EE3D', '47DF7844DE611A35',\n",
       "       '4CD9674D8668698C', '5202FD9C3F3E6DCB', '561D9C46D30CDE75',\n",
       "       '568C73A17370866F', '56A09B65B422A9C3', '56CA1FFF09488D70',\n",
       "       '5A48C85404AB8CFD', '623800C4D6E06CFF', '5B6D4F35387FF59C',\n",
       "       '64C38A134BB232A0', '5BE1ADA090E1EB9C', '7221AE511B771DEA',\n",
       "       '5F3E9A19B47C2EAD', '73781E0BB50F5CFD', '7544927F31DCD2CC',\n",
       "       '7645FEEA317A0322', '7649B8253DAA6017', '772CF49213E9182A',\n",
       "       '78BBB9B8FA64AAE9', '7A84C4C355AAF522', '7D8E6E1C05D04B9D',\n",
       "       '800ACF15C5100518', '81919050DB84B1E2', '83E1C340F8E5F65D',\n",
       "       '84AB58449615F6A7', '90474B0E4714E788', '96DB3D1914340624',\n",
       "       '9E8122CBCB107AC3', '9FB69D514F663A2B', 'A028109FC4FFD563',\n",
       "       'A09CBBD45477851D', 'A4264147F70AEA89', 'AF0F2977AE15FCEB',\n",
       "       'B16E560C37DE59B8', 'B1BF7CAA0E66B941', 'B481CBACB2D2317F',\n",
       "       'B4DE93C52883978B', 'B9C955AF12E715A9', 'B9E075DD7DC4993D',\n",
       "       'BC3675FA16C01599', 'C0AB424F324B9C12', 'C3306605A8CE9DCF',\n",
       "       'C3732D71E7AEAD41', 'C3EE0DC08BE06372', 'C64307FC319671E4',\n",
       "       'CAACC656E5496740', 'CBA97E66414EC66D', 'CE3E4B5B92FBE67D',\n",
       "       'D70E1BF285046A89', 'D7B443C423B101E8', 'D86B4634ED371FC8',\n",
       "       'DF8E96657CA10FA1', 'E8645535412D684C', 'EE79892E166A55B4',\n",
       "       'EF1B0683CDDE35F4', 'F0153D8ED3822B16', 'F08C01C4F5DC66B4',\n",
       "       'FD8E42D075A45A2F', 'DF7C5391DF882E08', 'D8807180F5048ADF'],\n",
       "      dtype=object)"
      ]
     },
     "execution_count": 24,
     "metadata": {},
     "output_type": "execute_result"
    }
   ],
   "source": [
    "df.values[:, 0]"
   ]
  },
  {
   "cell_type": "code",
   "execution_count": 44,
   "metadata": {},
   "outputs": [],
   "source": [
    "from PIL import Image\n",
    "import numpy as np\n",
    "from tqdm import tqdm"
   ]
  },
  {
   "cell_type": "code",
   "execution_count": 41,
   "metadata": {},
   "outputs": [],
   "source": [
    "for drr in tqdm(drr_lst):\n",
    "    img = Image.open(drr)\n",
    "    if img.size[-1] > 512:\n",
    "        Image.fromarray(np.array(img)[-512:]).save(f\"drr_crop/{drr.split('/')[-1]}\")\n",
    "    else:\n",
    "        Image.fromarray(np.array(img)[-img.size[-1]:]).resize((512, 512)).save(f\"drr_crop/{drr.split('/')[-1]}\")"
   ]
  },
  {
   "cell_type": "code",
   "execution_count": 45,
   "metadata": {},
   "outputs": [
    {
     "name": "stderr",
     "output_type": "stream",
     "text": [
      "100%|██████████| 90/90 [00:00<00:00, 14980.25it/s]\n"
     ]
    }
   ],
   "source": [
    "size_lst = []\n",
    "for drr in tqdm(drr_lst):\n",
    "    img = Image.open(drr)\n",
    "    size_lst.append(img.size)"
   ]
  },
  {
   "cell_type": "code",
   "execution_count": 47,
   "metadata": {},
   "outputs": [
    {
     "data": {
      "text/plain": [
       "(512, 512)"
      ]
     },
     "execution_count": 47,
     "metadata": {},
     "output_type": "execute_result"
    }
   ],
   "source": [
    "min(size_lst)"
   ]
  },
  {
   "cell_type": "code",
   "execution_count": 53,
   "metadata": {},
   "outputs": [],
   "source": [
    "mask_lst = glob(\"ctpel_drr/mask/*.png\")"
   ]
  },
  {
   "cell_type": "code",
   "execution_count": 51,
   "metadata": {},
   "outputs": [
    {
     "name": "stderr",
     "output_type": "stream",
     "text": [
      "100%|██████████| 450/450 [00:03<00:00, 129.17it/s]\n"
     ]
    }
   ],
   "source": [
    "for mask in tqdm(mask_lst):\n",
    "    img = Image.open(mask)\n",
    "    if img.size[-1] > 512:\n",
    "        Image.fromarray(np.array(img)[-512:]).save(f\"mask_crop/{mask.split('/')[-1]}\")\n",
    "    else:\n",
    "        Image.fromarray(np.array(img)[-img.size[-1]:]).resize((512, 512)).save(f\"mask_crop/{mask.split('/')[-1]}\")"
   ]
  },
  {
   "cell_type": "code",
   "execution_count": null,
   "metadata": {},
   "outputs": [],
   "source": []
  }
 ],
 "metadata": {
  "kernelspec": {
   "display_name": "Python 3",
   "language": "python",
   "name": "python3"
  },
  "language_info": {
   "codemirror_mode": {
    "name": "ipython",
    "version": 3
   },
   "file_extension": ".py",
   "mimetype": "text/x-python",
   "name": "python",
   "nbconvert_exporter": "python",
   "pygments_lexer": "ipython3",
   "version": "3.6.9"
  }
 },
 "nbformat": 4,
 "nbformat_minor": 4
}
